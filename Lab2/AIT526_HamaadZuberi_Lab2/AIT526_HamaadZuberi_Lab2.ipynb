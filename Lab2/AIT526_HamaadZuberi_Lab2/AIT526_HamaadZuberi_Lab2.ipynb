{
 "cells": [
  {
   "cell_type": "markdown",
   "metadata": {},
   "source": [
    "# AIT 526: Lab2\n",
    "\n",
    "- Hamaad Zuberi\n",
    "- Feb 19th, 2024\n"
   ]
  },
  {
   "cell_type": "markdown",
   "metadata": {},
   "source": [
    "## Task 1: Text Summarization with Word Frequencies\n",
    "\n",
    "### Task 1.1\n",
    "\n",
    "Use the web scraping technique with BeautifulSoup as shown in class to get the text data from the specified data location on the Wikipedia webpage.\n"
   ]
  },
  {
   "cell_type": "code",
   "execution_count": 780,
   "metadata": {},
   "outputs": [],
   "source": [
    "import bs4 as bs\n",
    "import urllib.request\n",
    "import re\n",
    "\n",
    "def _scrape_webpage(url):\n",
    "    \"\"\"\n",
    "    Use BeautifulSoup to scrape a webpage and return the text.\n",
    "    \"\"\"\n",
    "    scraped_text = urllib.request.urlopen(url)\n",
    "    text = scraped_text.read()\n",
    "    parsed_text = bs.BeautifulSoup(text, 'html.parser')\n",
    "    paragraphs = parsed_text.find_all('p')\n",
    "    formatted_text = \"\"\n",
    "    \n",
    "    for para in paragraphs:\n",
    "        formatted_text += para.text\n",
    "        \n",
    "    return formatted_text"
   ]
  },
  {
   "cell_type": "code",
   "execution_count": 781,
   "metadata": {},
   "outputs": [
    {
     "name": "stdout",
     "output_type": "stream",
     "text": [
      "Natural language processing (NLP) is a subfield of computer science and especially artificial intelligence. It is primarily concerned with providing computers with the ability to process data encoded in natural language and is thus closely related to information retrieval, knowledge representation and computational linguistics, a subfield of linguistics. Typically data is collected in text corpora, using either rule-based, statistical or neural-based approaches in machine learning and deep learning. Major tasks in natural language processing are speech recognition, text classification, natural-language understanding, and natural-language generation. Natural language processing has its roots in the 1950s. Already in 1950, Alan Turing published an article titled \"Computing Machinery and Intelligence\" which proposed what is now called the Turing test as a criterion of intelligence, though at the time that was not articulated as a problem separate from artificial intelligence. The proposed test includes a task that involves the automated interpretation and generation of natural language. The premise of symbolic NLP is well-summarized by John Searle's Chinese room experiment: Given a collection of rules (e.g., a Chinese phrasebook, with questions and matching answers), the computer emulates natural language understanding (or other NLP tasks) by applying those rules to the data it confronts. Up until the 1980s, most natural language processing systems were based on complex sets of hand-written rules. Starting in the late 1980s, however, there was a revolution in natural language processing with the introduction of machine learning algorithms for language processing. This was due to both the steady increase in computational power (see Moore's law) and the gradual lessening of the dominance of Chomskyan theories of linguistics (e.g. transformational grammar), whose theoretical underpinnings discouraged the sort of corpus linguistics that underlies the machine-learning approach to language processing. Symbolic approach, i.e., the hand-coding of a set of rules for manipulating symbols, coupled with a dictionary lookup, was historically the first approach used both by AI in general and by NLP in particular: such as by writing grammars or devising heuristic rules for stemming. Machine learning approaches, which include both statistical and neural networks, on the other hand, have many advantages over the symbolic approach: Although rule-based systems for manipulating symbols were still in use in 2020, they have become mostly obsolete with the advance of LLMs in 2023. Before that they were commonly used: In the late 1980s and mid-1990s, the statistical approach ended a period of AI winter, which was caused by the inefficiencies of the rule-based approaches. The earliest decision trees, producing systems of hard if–then rules, were still very similar to the old rule-based approaches. Only the introduction of hidden Markov models, applied to part-of-speech tagging, announced the end of the old rule-based approach. A major drawback of statistical methods is that they require elaborate feature engineering. Since 2015, the statistical approach has been replaced by the neural networks approach, using semantic networks and word embeddings to capture semantic properties of words. Intermediate tasks (e.g., part-of-speech tagging and dependency parsing) are not needed anymore. Neural machine translation, based on then-newly invented sequence-to-sequence transformations, made obsolete the intermediate steps, such as word alignment, previously necessary for statistical machine translation. The following is a list of some of the most commonly researched tasks in natural language processing. Some of these tasks have direct real-world applications, while others more commonly serve as subtasks that are used to aid in solving larger tasks. Though natural language processing tasks are closely intertwined, they can be subdivided into categories for convenience. A coarse division is given below. Based on long-standing trends in the field, it is possible to extrapolate future directions of NLP. As of 2020, three trends among the topics of the long-standing series of CoNLL Shared Tasks can be observed: Most higher-level NLP applications involve aspects that emulate intelligent behaviour and apparent comprehension of natural language. More broadly speaking, the technical operationalization of increasingly advanced aspects of cognitive behaviour represents one of the developmental trajectories of NLP (see trends among CoNLL shared tasks above). Cognition refers to \"the mental action or process of acquiring knowledge and understanding through thought, experience, and the senses.\" Cognitive science is the interdisciplinary, scientific study of the mind and its processes. Cognitive linguistics is an interdisciplinary branch of linguistics, combining knowledge and research from both psychology and linguistics. Especially during the age of symbolic NLP, the area of computational linguistics maintained strong ties with cognitive studies. As an example, George Lakoff offers a methodology to build natural language processing (NLP) algorithms through the perspective of cognitive science, along with the findings of cognitive linguistics, with two defining aspects: Ties with cognitive linguistics are part of the historical heritage of NLP, but they have been less frequently addressed since the statistical turn during the 1990s. Nevertheless, approaches to develop cognitive models towards technically operationalizable frameworks have been pursued in the context of various frameworks, e.g., of cognitive grammar, functional grammar, construction grammar, computational psycholinguistics and cognitive neuroscience (e.g., ACT-R), however, with limited uptake in mainstream NLP (as measured by presence on major conferences of the ACL). More recently, ideas of cognitive NLP have been revived as an approach to achieve explainability, e.g., under the notion of \"cognitive AI\". Likewise, ideas of cognitive NLP are inherent to neural models multimodal NLP (although rarely made explicit) and developments in artificial intelligence, specifically tools and technologies using large language model approaches and new directions in artificial general intelligence based on the free energy principle by British neuroscientist and theoretician at University College London Karl J. Friston. \n"
     ]
    }
   ],
   "source": [
    "raw_text = _scrape_webpage('https://en.wikipedia.org/wiki/Natural_language_processing')\n",
    "\n",
    "# Remove references (e.g., [1], [2], etc.) from the text\n",
    "raw_text = re.sub(r'\\[[0-9]*\\]', ' ', raw_text)\n",
    "\n",
    "# Remove extra spaces from the text\n",
    "raw_text = re.sub(r'\\s+', ' ', raw_text)\n",
    "\n",
    "print(raw_text)"
   ]
  },
  {
   "cell_type": "markdown",
   "metadata": {},
   "source": [
    "### Task 1.2\n",
    "\n",
    "Preprocess the text data and must include word tokenization, stopwords and punctuation removal, etc.\n"
   ]
  },
  {
   "cell_type": "code",
   "execution_count": 782,
   "metadata": {},
   "outputs": [
    {
     "name": "stdout",
     "output_type": "stream",
     "text": [
      "['Natural language processing (NLP) is a subfield of computer science and especially artificial intelligence.', 'It is primarily concerned with providing computers with the ability to process data encoded in natural language and is thus closely related to information retrieval, knowledge representation and computational linguistics, a subfield of linguistics.', 'Typically data is collected in text corpora, using either rule-based, statistical or neural-based approaches in machine learning and deep learning.', 'Major tasks in natural language processing are speech recognition, text classification, natural-language understanding, and natural-language generation.', 'Natural language processing has its roots in the 1950s.']\n",
      "['natural', 'language', 'processing', 'nlp', 'subfield', 'computer', 'science', 'especially', 'artificial', 'intelligence']\n"
     ]
    }
   ],
   "source": [
    "import nltk\n",
    "from nltk.corpus import stopwords\n",
    "\n",
    "def clean_text(text):\n",
    "    text = text.lower()\n",
    "    # Remove non-alphabetic characters\n",
    "    text = re.sub(r'[^a-zA-Z]', ' ', text)\n",
    "    # Remove extra spaces\n",
    "    text = re.sub(r'\\s+', ' ', text)\n",
    "    return text\n",
    "\n",
    "# Tokenize the raw text into sentences\n",
    "sentences = nltk.sent_tokenize(raw_text)\n",
    "print(sentences[:5])\n",
    "\n",
    "text = clean_text(raw_text)\n",
    "\n",
    "def tokenize(text):\n",
    "    # Tokenize the text into words\n",
    "    tokens = nltk.word_tokenize(text)\n",
    "    # Remove stopwords from the tokens\n",
    "    tokens = [token for token in tokens if token not in stopwords.words('english')]\n",
    "    return tokens\n",
    "\n",
    "# Tokenize the cleaned text into words\n",
    "words = tokenize(text)\n",
    "print(words[:10])"
   ]
  },
  {
   "cell_type": "markdown",
   "metadata": {},
   "source": [
    "### Task 1.3\n",
    "\n",
    "Calculate word frequencies or weighted word frequencies.\n"
   ]
  },
  {
   "cell_type": "code",
   "execution_count": 783,
   "metadata": {},
   "outputs": [
    {
     "data": {
      "text/plain": [
       "[('language', 17),\n",
       " ('natural', 14),\n",
       " ('nlp', 14),\n",
       " ('cognitive', 13),\n",
       " ('processing', 10),\n",
       " ('linguistics', 10),\n",
       " ('based', 10),\n",
       " ('tasks', 9),\n",
       " ('approach', 9),\n",
       " ('statistical', 7)]"
      ]
     },
     "execution_count": 783,
     "metadata": {},
     "output_type": "execute_result"
    }
   ],
   "source": [
    "\n",
    "# Calculate the frequency distribution of words\n",
    "freq_dist = nltk.FreqDist(words)\n",
    "\n",
    "def find_weighted_frequency(freq_dist):\n",
    "    max_frequency = max(freq_dist.values())\n",
    "    frequencies = {}\n",
    "    for key in freq_dist.keys():\n",
    "        frequencies[key] = freq_dist[key] / max_frequency\n",
    "    \n",
    "    return frequencies\n",
    "\n",
    "weighted_freq = find_weighted_frequency(freq_dist)\n",
    "freq_dist.most_common(10)"
   ]
  },
  {
   "cell_type": "markdown",
   "metadata": {},
   "source": [
    "### Task 1.4\n",
    "\n",
    "Score the sentences\n"
   ]
  },
  {
   "cell_type": "code",
   "execution_count": 784,
   "metadata": {},
   "outputs": [
    {
     "name": "stdout",
     "output_type": "stream",
     "text": [
      "{'Natural language processing (NLP) is a subfield of computer science and especially artificial intelligence.': 4.352941176470588, 'It is primarily concerned with providing computers with the ability to process data encoded in natural language and is thus closely related to information retrieval, knowledge representation and computational linguistics, a subfield of linguistics.': 4.588235294117646, 'Typically data is collected in text corpora, using either rule-based, statistical or neural-based approaches in machine learning and deep learning.': 4.235294117647059, 'Major tasks in natural language processing are speech recognition, text classification, natural-language understanding, and natural-language generation.': 7.470588235294117, 'Natural language processing has its roots in the 1950s.': 2.4705882352941173, 'Already in 1950, Alan Turing published an article titled \"Computing Machinery and Intelligence\" which proposed what is now called the Turing test as a criterion of intelligence, though at the time that was not articulated as a problem separate from artificial intelligence.': 2.6470588235294117, 'The proposed test includes a task that involves the automated interpretation and generation of natural language.': 2.4705882352941178, \"The premise of symbolic NLP is well-summarized by John Searle's Chinese room experiment: Given a collection of rules (e.g., a Chinese phrasebook, with questions and matching answers), the computer emulates natural language understanding (or other NLP tasks) by applying those rules to the data it confronts.\": 7.4117647058823515, 'Up until the 1980s, most natural language processing systems were based on complex sets of hand-written rules.': 3.8823529411764697, 'Starting in the late 1980s, however, there was a revolution in natural language processing with the introduction of machine learning algorithms for language processing.': 5.235294117647058, \"This was due to both the steady increase in computational power (see Moore's law) and the gradual lessening of the dominance of Chomskyan theories of linguistics (e.g.\": 2.3529411764705883, 'transformational grammar), whose theoretical underpinnings discouraged the sort of corpus linguistics that underlies the machine-learning approach to language processing.': 4.0588235294117645, 'Symbolic approach, i.e., the hand-coding of a set of rules for manipulating symbols, coupled with a dictionary lookup, was historically the first approach used both by AI in general and by NLP in particular: such as by writing grammars or devising heuristic rules for stemming.': 4.8823529411764675, 'Machine learning approaches, which include both statistical and neural networks, on the other hand, have many advantages over the symbolic approach: Although rule-based systems for manipulating symbols were still in use in 2020, they have become mostly obsolete with the advance of LLMs in 2023.': 4.941176470588232, 'Before that they were commonly used: In the late 1980s and mid-1990s, the statistical approach ended a period of AI winter, which was caused by the inefficiencies of the rule-based approaches.': 3.1764705882352944, 'The earliest decision trees, producing systems of hard if–then rules, were still very similar to the old rule-based approaches.': 2.3529411764705883, 'Only the introduction of hidden Markov models, applied to part-of-speech tagging, announced the end of the old rule-based approach.': 2.588235294117647, 'A major drawback of statistical methods is that they require elaborate feature engineering.': 0.9411764705882353, 'Since 2015, the statistical approach has been replaced by the neural networks approach, using semantic networks and word embeddings to capture semantic properties of words.': 3.0588235294117636, 'Intermediate tasks (e.g., part-of-speech tagging and dependency parsing) are not needed anymore.': 2.117647058823529, 'Neural machine translation, based on then-newly invented sequence-to-sequence transformations, made obsolete the intermediate steps, such as word alignment, previously necessary for statistical machine translation.': 3.3529411764705874, 'The following is a list of some of the most commonly researched tasks in natural language processing.': 3.294117647058824, 'Some of these tasks have direct real-world applications, while others more commonly serve as subtasks that are used to aid in solving larger tasks.': 2.058823529411765, 'Though natural language processing tasks are closely intertwined, they can be subdivided into categories for convenience.': 3.411764705882352, 'A coarse division is given below.': 0.23529411764705882, 'Based on long-standing trends in the field, it is possible to extrapolate future directions of NLP.': 2.1764705882352944, 'As of 2020, three trends among the topics of the long-standing series of CoNLL Shared Tasks can be observed: Most higher-level NLP applications involve aspects that emulate intelligent behaviour and apparent comprehension of natural language.': 4.999999999999999, 'More broadly speaking, the technical operationalization of increasingly advanced aspects of cognitive behaviour represents one of the developmental trajectories of NLP (see trends among CoNLL shared tasks above).': 3.6470588235294117, 'Cognition refers to \"the mental action or process of acquiring knowledge and understanding through thought, experience, and the senses.\"': 0.9411764705882354, 'Cognitive science is the interdisciplinary, scientific study of the mind and its processes.': 1.2941176470588236, 'Cognitive linguistics is an interdisciplinary branch of linguistics, combining knowledge and research from both psychology and linguistics.': 3.058823529411764, 'Especially during the age of symbolic NLP, the area of computational linguistics maintained strong ties with cognitive studies.': 3.1764705882352935, 'As an example, George Lakoff offers a methodology to build natural language processing (NLP) algorithms through the perspective of cognitive science, along with the findings of cognitive linguistics, with two defining aspects: Ties with cognitive linguistics are part of the historical heritage of NLP, but they have been less frequently addressed since the statistical turn during the 1990s.': 9.823529411764703, 'Nevertheless, approaches to develop cognitive models towards technically operationalizable frameworks have been pursued in the context of various frameworks, e.g., of cognitive grammar, functional grammar, construction grammar, computational psycholinguistics and cognitive neuroscience (e.g., ACT-R), however, with limited uptake in mainstream NLP (as measured by presence on major conferences of the ACL).': 7.8823529411764675, 'More recently, ideas of cognitive NLP have been revived as an approach to achieve explainability, e.g., under the notion of \"cognitive AI\".': 4.235294117647059, 'Likewise, ideas of cognitive NLP are inherent to neural models multimodal NLP (although rarely made explicit) and developments in artificial intelligence, specifically tools and technologies using large language model approaches and new directions in artificial general intelligence based on the free energy principle by British neuroscientist and theoretician at University College London Karl J. Friston.': 8.176470588235288}\n"
     ]
    }
   ],
   "source": [
    "def calculate_sentence_scores(sentences, freq_dist):\n",
    "    scores = {}\n",
    "    for sentence in sentences:\n",
    "        clean_sentence = clean_text(sentence)\n",
    "        sentence_words = nltk.word_tokenize(clean_sentence)\n",
    "        for word in sentence_words:\n",
    "            # Check if the word is in the frequency distribution\n",
    "            if word in freq_dist.keys():\n",
    "                # If the sentence is not already in the scores dictionary, add it with the word's frequency as the initial score\n",
    "                if sentence not in scores.keys():\n",
    "                    scores[sentence] = freq_dist[word]\n",
    "                # If the sentence is already in the scores dictionary, increment its score by the word's frequency\n",
    "                else:\n",
    "                    scores[sentence] += freq_dist[word]\n",
    "                     \n",
    "    return scores\n",
    "\n",
    "scores = calculate_sentence_scores(sentences, weighted_freq)\n",
    "print(scores)"
   ]
  },
  {
   "cell_type": "markdown",
   "metadata": {},
   "source": [
    "### Task 1.5\n",
    "\n",
    "Rank the sentences.\n"
   ]
  },
  {
   "cell_type": "code",
   "execution_count": 785,
   "metadata": {},
   "outputs": [
    {
     "name": "stdout",
     "output_type": "stream",
     "text": [
      "[('Major tasks in natural language processing are speech recognition, text classification, natural-language understanding, and natural-language generation.', 0.37352941176470583), ('Natural language processing (NLP) is a subfield of computer science and especially artificial intelligence.', 0.2560553633217993), ('Natural language processing has its roots in the 1950s.', 0.24705882352941172), ('Up until the 1980s, most natural language processing systems were based on complex sets of hand-written rules.', 0.20433436532507734), ('Starting in the late 1980s, however, there was a revolution in natural language processing with the introduction of machine learning algorithms for language processing.', 0.19389978213507622)]\n"
     ]
    }
   ],
   "source": [
    "def adjust_score(scores):\n",
    "    \"\"\"\n",
    "    Adjust the scores of sentences by dividing the original score by the word count of each sentence.\n",
    "    \"\"\"\n",
    "    sentences_scores = {}\n",
    "    # Iterate through each sentence and its corresponding score\n",
    "    for sentence, score in scores.items():\n",
    "        # Tokenize the sentence to count the number of words\n",
    "        word_count = len(nltk.word_tokenize(sentence))\n",
    "        # Calculate the adjusted score by dividing the original score by the word count\n",
    "        adjusted_score = score / word_count\n",
    "        sentences_scores[sentence] = adjusted_score\n",
    "        \n",
    "    return sentences_scores\n",
    "\n",
    "# Adjust the scores of the sentences based on the word count on sentence.\n",
    "# This is to make sure longer sentences with more words do not get an unfair advantage.\n",
    "sentence_scores = adjust_score(scores)\n",
    "\n",
    "# Sort the sentences based on their adjusted scores in descending order\n",
    "ranked_sentences = sorted(sentence_scores.items(), key=lambda x: x[1], reverse=True)\n",
    "\n",
    "print(ranked_sentences[:5])"
   ]
  },
  {
   "cell_type": "markdown",
   "metadata": {},
   "source": [
    "### Task 1.6\n",
    "\n",
    "Build a summary based on sentence count, word count, and percentage. Print out all three summarized text examples.\n"
   ]
  },
  {
   "cell_type": "code",
   "execution_count": 786,
   "metadata": {},
   "outputs": [],
   "source": [
    "def summarize_by_sentence_count(ranked_sentences, n):\n",
    "    \"\"\"\n",
    "    Summarize the text by selecting the top 'n' sentences based on their scores.\n",
    "    \"\"\"\n",
    "    summary_sentences = [sentence for sentence, score in ranked_sentences[:n]]\n",
    "    summary = ' '.join(summary_sentences)\n",
    "    return summary\n",
    "\n",
    "def summarize_by_word_count(ranked_sentences, max_words):\n",
    "    \"\"\"\n",
    "    Summarize the text by selecting sentences until the total word count reaches 'max_words'.\n",
    "    \"\"\"\n",
    "    summary_words = []\n",
    "    total_words = 0\n",
    "    for sentence, score in ranked_sentences:\n",
    "        word_count = len(nltk.word_tokenize(sentence))\n",
    "        if total_words + word_count <= max_words:\n",
    "            summary_words.append(sentence)\n",
    "            total_words += word_count\n",
    "        if total_words >= max_words:\n",
    "            break\n",
    "    summary = ' '.join(summary_words)\n",
    "    return summary\n",
    "\n",
    "def summarize_by_percentage(sentences, ranked_sentences, percentage):\n",
    "    \"\"\"\n",
    "    Summarize the text by selecting sentences until the total word count reaches a given percentage of the original text.\n",
    "    \"\"\"\n",
    "    total_word_count = sum(len(nltk.word_tokenize(sentence)) for sentence in sentences)\n",
    "    max_words = int(total_word_count * percentage)\n",
    "    \n",
    "    return summarize_by_word_count(ranked_sentences, max_words)\n",
    "\n",
    "summary_sentence_count = summarize_by_sentence_count(ranked_sentences, 5)\n",
    "summary_word_count = summarize_by_word_count(ranked_sentences, 50)\n",
    "summary_percentage = summarize_by_percentage(sentences, ranked_sentences, 0.2)"
   ]
  },
  {
   "cell_type": "code",
   "execution_count": 787,
   "metadata": {},
   "outputs": [
    {
     "name": "stdout",
     "output_type": "stream",
     "text": [
      "Summary based on Sentence Count:\n",
      "Major tasks in natural language processing are speech recognition, text classification, natural-language understanding, and natural-language generation. Natural language processing (NLP) is a subfield of computer science and especially artificial intelligence. Natural language processing has its roots in the 1950s. Up until the 1980s, most natural language processing systems were based on complex sets of hand-written rules. Starting in the late 1980s, however, there was a revolution in natural language processing with the introduction of machine learning algorithms for language processing.\n",
      "\n",
      "Summary based on Word Count:\n",
      "Major tasks in natural language processing are speech recognition, text classification, natural-language understanding, and natural-language generation. Natural language processing (NLP) is a subfield of computer science and especially artificial intelligence. Natural language processing has its roots in the 1950s.\n",
      "\n",
      "Summary based on Percentage:\n",
      "Major tasks in natural language processing are speech recognition, text classification, natural-language understanding, and natural-language generation. Natural language processing (NLP) is a subfield of computer science and especially artificial intelligence. Natural language processing has its roots in the 1950s. Up until the 1980s, most natural language processing systems were based on complex sets of hand-written rules. Starting in the late 1980s, however, there was a revolution in natural language processing with the introduction of machine learning algorithms for language processing. Though natural language processing tasks are closely intertwined, they can be subdivided into categories for convenience. transformational grammar), whose theoretical underpinnings discouraged the sort of corpus linguistics that underlies the machine-learning approach to language processing. Typically data is collected in text corpora, using either rule-based, statistical or neural-based approaches in machine learning and deep learning. The following is a list of some of the most commonly researched tasks in natural language processing. Cognitive linguistics is an interdisciplinary branch of linguistics, combining knowledge and research from both psychology and linguistics. Intermediate tasks (e.g., part-of-speech tagging and dependency parsing) are not needed anymore.\n"
     ]
    }
   ],
   "source": [
    "print(\"Summary based on Sentence Count:\")\n",
    "print(summary_sentence_count)\n",
    "\n",
    "print(\"\\nSummary based on Word Count:\")\n",
    "print(summary_word_count)\n",
    "\n",
    "print(\"\\nSummary based on Percentage:\")\n",
    "print(summary_percentage)"
   ]
  },
  {
   "cell_type": "markdown",
   "metadata": {},
   "source": [
    "## Task 2: Text Summarization with N-grams\n",
    "\n",
    "### Task 2.1\n",
    "\n",
    "Follow the following code examples to generate N-grams with NLTK:\n"
   ]
  },
  {
   "cell_type": "code",
   "execution_count": 788,
   "metadata": {},
   "outputs": [],
   "source": [
    "from nltk.util import ngrams\n",
    "\n",
    "def generate_ngrams(text, n):\n",
    "    n_grams = ngrams(nltk.word_tokenize(text.lower()), n)\n",
    "    return [' '.join(grams) for grams in n_grams]"
   ]
  },
  {
   "cell_type": "markdown",
   "metadata": {},
   "source": [
    "### Task 2.2\n",
    "\n",
    "Write the code for text summarization with any N-grams.\n",
    "Note that we will check your program using at least two different n-grams, e.g., n=2, 3, or 4.\n",
    "\n",
    "- a) Use NLTK to get N-grams and FreqDist() to calculate the n-gram frequencies\n"
   ]
  },
  {
   "cell_type": "code",
   "execution_count": 789,
   "metadata": {},
   "outputs": [
    {
     "name": "stdout",
     "output_type": "stream",
     "text": [
      "<FreqDist with 1008 samples and 1046 outcomes>\n",
      "[('natural language processing', 8), ('in natural language', 4), ('( e.g. ,', 3), ('language processing .', 3), ('language processing (', 2), ('processing ( nlp', 2), ('( nlp )', 2), ('a subfield of', 2), ('artificial intelligence .', 2), ('tasks in natural', 2)]\n"
     ]
    },
    {
     "data": {
      "text/plain": [
       "<Axes: xlabel='Samples', ylabel='Counts'>"
      ]
     },
     "execution_count": 789,
     "metadata": {},
     "output_type": "execute_result"
    },
    {
     "data": {
      "image/png": "[encoded data removed]",
      "text/plain": [
       "<Figure size 640x480 with 1 Axes>"
      ]
     },
     "metadata": {},
     "output_type": "display_data"
    }
   ],
   "source": [
    "# Set the value of n for n-grams\n",
    "n = 3\n",
    "\n",
    "# Generate n-grams from the text\n",
    "ngrams_list = generate_ngrams(raw_text, n)\n",
    "freq_dist_ngram = nltk.FreqDist(ngrams_list)\n",
    "print(freq_dist_ngram)\n",
    "\n",
    "top_ngrams = freq_dist_ngram.most_common(10)\n",
    "print(top_ngrams)\n",
    "\n",
    "freq_dist_ngram.plot(20)"
   ]
  },
  {
   "cell_type": "markdown",
   "metadata": {},
   "source": [
    "- b) Find weighted frequency occurrences from FreqDist. You can use the similar function from Task 1.\n"
   ]
  },
  {
   "cell_type": "code",
   "execution_count": 790,
   "metadata": {},
   "outputs": [
    {
     "data": {
      "text/plain": [
       "[('natural language processing', 1.0),\n",
       " ('language processing (', 0.25),\n",
       " ('processing ( nlp', 0.25),\n",
       " ('( nlp )', 0.25),\n",
       " ('nlp ) is', 0.125),\n",
       " (') is a', 0.125),\n",
       " ('is a subfield', 0.125),\n",
       " ('a subfield of', 0.25),\n",
       " ('subfield of computer', 0.125),\n",
       " ('of computer science', 0.125),\n",
       " ('computer science and', 0.125),\n",
       " ('science and especially', 0.125),\n",
       " ('and especially artificial', 0.125),\n",
       " ('especially artificial intelligence', 0.125),\n",
       " ('artificial intelligence .', 0.25),\n",
       " ('intelligence . it', 0.125),\n",
       " ('. it is', 0.125),\n",
       " ('it is primarily', 0.125),\n",
       " ('is primarily concerned', 0.125),\n",
       " ('primarily concerned with', 0.125)]"
      ]
     },
     "execution_count": 790,
     "metadata": {},
     "output_type": "execute_result"
    }
   ],
   "source": [
    "ngram_freqs = find_weighted_frequency(freq_dist_ngram)\n",
    "list(ngram_freqs.items())[:20]"
   ]
  },
  {
   "cell_type": "markdown",
   "metadata": {},
   "source": [
    "- c) Define the function like calculate_sentence_scores_ngram(sent_tokens,\n",
    "  ngram_freqs, n_grams) to calculate the sentence scores for any N-grams. This function\n",
    "  is similar to the one in Task 1.\n"
   ]
  },
  {
   "cell_type": "code",
   "execution_count": 791,
   "metadata": {},
   "outputs": [
    {
     "name": "stdout",
     "output_type": "stream",
     "text": [
      "[('The following is a list of some of the most commonly researched tasks in natural language processing.', 0.18055555555555555), ('Natural language processing has its roots in the 1950s.', 0.1625), ('Starting in the late 1980s, however, there was a revolution in natural language processing with the introduction of machine learning algorithms for language processing.', 0.1388888888888889), ('Though natural language processing tasks are closely intertwined, they can be subdivided into categories for convenience.', 0.13194444444444445), ('Natural language processing (NLP) is a subfield of computer science and especially artificial intelligence.', 0.125)]\n"
     ]
    }
   ],
   "source": [
    "def calculate_sentence_scores_ngram(sentences, ngram_freqs, n):\n",
    "    sentence_scores = {}\n",
    "    \n",
    "    for sentence in sentences:\n",
    "        # Clean the sentence by removing non-alphabetic characters and converting to lowercase\n",
    "        sentence_clean = clean_text(sentence)\n",
    "        # Generate n-grams from the cleaned sentence\n",
    "        sentence_ngrams = generate_ngrams(sentence_clean, n)\n",
    "        # Initialize the score for the current sentence to 0\n",
    "        score = 0\n",
    "        # Iterate through each n-gram in the sentence\n",
    "        for ngram in sentence_ngrams:\n",
    "            # If the n-gram is in the frequency distribution, add its weighted frequency to the score\n",
    "            if ngram in ngram_freqs:\n",
    "                score += ngram_freqs[ngram]\n",
    "        # If the score is greater than 0, add the sentence and its score to the dictionary\n",
    "        if score > 0:\n",
    "            sentence_scores[sentence] = score\n",
    "    \n",
    "    return sentence_scores\n",
    "\n",
    "scores_ngram = calculate_sentence_scores_ngram(sentences, ngram_freqs, n)\n",
    "adjust_score_ngram = adjust_score(scores_ngram)\n",
    "\n",
    "\n",
    "# Rank the sentences based on their scores in descending order\n",
    "ranked_sentences_ngram = sorted(adjust_score_ngram.items(), key=lambda x: x[1], reverse=True)\n",
    "print(ranked_sentences_ngram[:5])"
   ]
  },
  {
   "cell_type": "code",
   "execution_count": 792,
   "metadata": {},
   "outputs": [
    {
     "name": "stdout",
     "output_type": "stream",
     "text": [
      "Summary based on Sentence Count:\n",
      "The following is a list of some of the most commonly researched tasks in natural language processing. Natural language processing has its roots in the 1950s. Starting in the late 1980s, however, there was a revolution in natural language processing with the introduction of machine learning algorithms for language processing.\n",
      "\n",
      "Summary based on Word Count:\n",
      "The following is a list of some of the most commonly researched tasks in natural language processing. Natural language processing has its roots in the 1950s. Though natural language processing tasks are closely intertwined, they can be subdivided into categories for convenience.\n",
      "\n",
      "Summary based on Percentage:\n",
      "The following is a list of some of the most commonly researched tasks in natural language processing. Natural language processing has its roots in the 1950s. Starting in the late 1980s, however, there was a revolution in natural language processing with the introduction of machine learning algorithms for language processing. Though natural language processing tasks are closely intertwined, they can be subdivided into categories for convenience. Natural language processing (NLP) is a subfield of computer science and especially artificial intelligence. Major tasks in natural language processing are speech recognition, text classification, natural-language understanding, and natural-language generation. Up until the 1980s, most natural language processing systems were based on complex sets of hand-written rules. The proposed test includes a task that involves the automated interpretation and generation of natural language. It is primarily concerned with providing computers with the ability to process data encoded in natural language and is thus closely related to information retrieval, knowledge representation and computational linguistics, a subfield of linguistics. Especially during the age of symbolic NLP, the area of computational linguistics maintained strong ties with cognitive studies.\n"
     ]
    }
   ],
   "source": [
    "\n",
    "summary_sentence_count_ngram = summarize_by_sentence_count(ranked_sentences_ngram, 3)\n",
    "summary_word_count_ngram = summarize_by_word_count(ranked_sentences_ngram, 50)\n",
    "summary_percentage_ngram = summarize_by_percentage(sentences, ranked_sentences_ngram, 0.2)\n",
    "\n",
    "print(\"Summary based on Sentence Count:\")\n",
    "print(summary_sentence_count_ngram)\n",
    "\n",
    "print(\"\\nSummary based on Word Count:\")\n",
    "print(summary_word_count_ngram)\n",
    "\n",
    "print(\"\\nSummary based on Percentage:\")\n",
    "print(summary_percentage_ngram)"
   ]
  },
  {
   "cell_type": "markdown",
   "metadata": {},
   "source": [
    "## Compare these two methods for text summarization. \n",
    "### What are different and why? Please clearly explain (around 100 words).\n",
    "Word Frequencies identify important terms by calculating how often each word appears in a text, allowing for straightforward extractive summaries based on the most frequent words. However, this approach overlooks the context and order of words. In contrast, N-grams analyze sequences of consecutive words, capturing relationships and patterns within the text. This method preserves the context and meaning more effectively but can be computationally intensive and may lead to redundancy if not managed properly. N-grams also require exponentially increasingly larger corpus for increasing N value. Ultimately, the choice between them depends on the desired depth of understanding in the summary.\n"
   ]
  },
  {
   "cell_type": "markdown",
   "metadata": {},
   "source": [
    "## References\n",
    "- Text Summarization- Module2 - Liao\n",
    "- https://www.nltk.org/api/nltk.util.html#nltk.util.ngram\n"
   ]
  }
 ],
 "metadata": {
  "kernelspec": {
   "display_name": "ait526",
   "language": "python",
   "name": "python3"
  },
  "language_info": {
   "codemirror_mode": {
    "name": "ipython",
    "version": 3
   },
   "file_extension": ".py",
   "mimetype": "text/x-python",
   "name": "python",
   "nbconvert_exporter": "python",
   "pygments_lexer": "ipython3",
   "version": "3.10.16"
  }
 },
 "nbformat": 4,
 "nbformat_minor": 2
}
