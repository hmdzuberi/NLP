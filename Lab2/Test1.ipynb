{
 "cells": [
  {
   "cell_type": "code",
   "execution_count": 6,
   "metadata": {},
   "outputs": [
    {
     "name": "stdout",
     "output_type": "stream",
     "text": [
      "Number of trigrams: 10\n",
      "Trigrams: [('Natural', 'language', 'processing'), ('language', 'processing', 'technology'), ('processing', 'technology', 'allows'), ('technology', 'allows', 'computer'), ('allows', 'computer', 'systems'), ('computer', 'systems', 'analyze'), ('systems', 'analyze', 'understand'), ('analyze', 'understand', 'normal'), ('understand', 'normal', 'human'), ('normal', 'human', 'language')]\n"
     ]
    }
   ],
   "source": [
    "import re\n",
    "import nltk\n",
    "from itertools import islice\n",
    "from nltk.corpus import stopwords\n",
    "\n",
    "# Input sentence\n",
    "sentence = \"Natural_language_processing is technology that allows @computer systems to #analyze and #understand normal human-language.\"\n",
    "\n",
    "# Step 1: Replace punctuations with a single space\n",
    "cleaned_sentence = re.sub(r'[^\\w\\s]|_', ' ', sentence)\n",
    "\n",
    "\n",
    "# Step 2: Tokenize and remove stopwords\n",
    "tokens = nltk.word_tokenize(cleaned_sentence)\n",
    "tokens = [token for token in tokens if token not in stopwords.words('english')]\n",
    "\n",
    "# Step 3: Generate trigrams\n",
    "def generate_ngrams(tokens, n):\n",
    "    return list(zip(*(islice(tokens, i, None) for i in range(n))))\n",
    "\n",
    "trigrams = generate_ngrams(tokens, 3)\n",
    "\n",
    "# Output the trigrams and their count\n",
    "print(\"Number of trigrams:\", len(trigrams))\n",
    "print(\"Trigrams:\", trigrams)"
   ]
  }
 ],
 "metadata": {
  "kernelspec": {
   "display_name": "ait526",
   "language": "python",
   "name": "python3"
  },
  "language_info": {
   "codemirror_mode": {
    "name": "ipython",
    "version": 3
   },
   "file_extension": ".py",
   "mimetype": "text/x-python",
   "name": "python",
   "nbconvert_exporter": "python",
   "pygments_lexer": "ipython3",
   "version": "3.10.16"
  }
 },
 "nbformat": 4,
 "nbformat_minor": 2
}
